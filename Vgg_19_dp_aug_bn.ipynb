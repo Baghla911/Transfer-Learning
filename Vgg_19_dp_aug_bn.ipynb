{
  "nbformat": 4,
  "nbformat_minor": 0,
  "metadata": {
    "colab": {
      "provenance": [],
      "gpuType": "T4"
    },
    "kernelspec": {
      "name": "python3",
      "display_name": "Python 3"
    },
    "language_info": {
      "name": "python"
    },
    "accelerator": "GPU"
  },
  "cells": [
    {
      "cell_type": "code",
      "source": [
        "import tensorflow as tf\n",
        "from tensorflow.keras import layers, models, optimizers\n",
        "from tensorflow.keras.applications import VGG19\n",
        "from tensorflow.keras.datasets import cifar10\n",
        "from tensorflow.keras.utils import to_categorical"
      ],
      "metadata": {
        "id": "x7ZXarocubAB"
      },
      "execution_count": null,
      "outputs": []
    },
    {
      "cell_type": "code",
      "source": [
        "(x_train, y_train), (x_test, y_test) = cifar10.load_data()\n",
        "\n",
        "x_train, x_test = x_train / 255.0, x_test / 255.0\n",
        "\n",
        "upscaled_size = (64, 64)\n",
        "x_train_upscaled = tf.image.resize(x_train, upscaled_size)\n",
        "x_test_upscaled = tf.image.resize(x_test, upscaled_size)\n",
        "\n",
        "y_train = to_categorical(y_train, 10)\n",
        "y_test = to_categorical(y_test, 10)"
      ],
      "metadata": {
        "id": "FtCpkF96ufMN",
        "colab": {
          "base_uri": "https://localhost:8080/"
        },
        "outputId": "c806c601-ebcc-41c3-8090-388ec0f9aef2"
      },
      "execution_count": null,
      "outputs": [
        {
          "output_type": "stream",
          "name": "stdout",
          "text": [
            "Downloading data from https://www.cs.toronto.edu/~kriz/cifar-10-python.tar.gz\n",
            "170498071/170498071 [==============================] - 6s 0us/step\n"
          ]
        }
      ]
    },
    {
      "cell_type": "code",
      "source": [
        "datagen = tf.keras.preprocessing.image.ImageDataGenerator(\n",
        "    rotation_range=20,\n",
        "    width_shift_range=0.2,\n",
        "    height_shift_range=0.2,\n",
        "    horizontal_flip=True,\n",
        "    shear_range=0.2,\n",
        "    zoom_range=0.2,\n",
        "    fill_mode='nearest'\n",
        ")"
      ],
      "metadata": {
        "id": "uDnbGhSAupFH"
      },
      "execution_count": null,
      "outputs": []
    },
    {
      "cell_type": "code",
      "source": [
        "base_model = VGG19(weights='imagenet', include_top=False, input_shape=(64, 64, 3))\n",
        "\n",
        "for layer in base_model.layers[:-5]:\n",
        "    layer.trainable = False\n",
        "\n",
        "model = models.Sequential()\n",
        "\n",
        "model.add(base_model)\n",
        "\n",
        "model.add(layers.Flatten())\n",
        "\n",
        "model.add(layers.Dense(256, activation='relu'))\n",
        "model.add(layers.BatchNormalization())\n",
        "model.add(layers.Dropout(0.2))\n",
        "\n",
        "model.add(layers.Dense(128, activation='relu'))\n",
        "model.add(layers.BatchNormalization())\n",
        "model.add(layers.Dropout(0.5))\n",
        "\n",
        "model.add(layers.Dense(10, activation='softmax'))"
      ],
      "metadata": {
        "id": "fcVPCVCdu0mS",
        "colab": {
          "base_uri": "https://localhost:8080/"
        },
        "outputId": "c76df46d-ff04-4fe9-fad6-840388e46bd2"
      },
      "execution_count": null,
      "outputs": [
        {
          "output_type": "stream",
          "name": "stdout",
          "text": [
            "Downloading data from https://storage.googleapis.com/tensorflow/keras-applications/vgg19/vgg19_weights_tf_dim_ordering_tf_kernels_notop.h5\n",
            "80134624/80134624 [==============================] - 3s 0us/step\n"
          ]
        }
      ]
    },
    {
      "cell_type": "code",
      "source": [],
      "metadata": {
        "id": "PfHOI1Ld8Y27"
      },
      "execution_count": null,
      "outputs": []
    },
    {
      "cell_type": "code",
      "source": [
        "model.compile(optimizer=optimizers.Adam(learning_rate=0.0001),\n",
        "              loss='categorical_crossentropy',\n",
        "              metrics=['accuracy'])\n"
      ],
      "metadata": {
        "id": "9-SmFfF2vGdn"
      },
      "execution_count": null,
      "outputs": []
    },
    {
      "cell_type": "code",
      "source": [
        "model.summary()"
      ],
      "metadata": {
        "colab": {
          "base_uri": "https://localhost:8080/"
        },
        "id": "fWnumMgE8l4X",
        "outputId": "28f4a63d-24ba-4fd7-a3a1-231d860006a3"
      },
      "execution_count": null,
      "outputs": [
        {
          "output_type": "stream",
          "name": "stdout",
          "text": [
            "Model: \"sequential\"\n",
            "_________________________________________________________________\n",
            " Layer (type)                Output Shape              Param #   \n",
            "=================================================================\n",
            " vgg19 (Functional)          (None, 2, 2, 512)         20024384  \n",
            "                                                                 \n",
            " flatten (Flatten)           (None, 2048)              0         \n",
            "                                                                 \n",
            " dense (Dense)               (None, 256)               524544    \n",
            "                                                                 \n",
            " batch_normalization (Batch  (None, 256)               1024      \n",
            " Normalization)                                                  \n",
            "                                                                 \n",
            " dropout (Dropout)           (None, 256)               0         \n",
            "                                                                 \n",
            " dense_1 (Dense)             (None, 128)               32896     \n",
            "                                                                 \n",
            " batch_normalization_1 (Bat  (None, 128)               512       \n",
            " chNormalization)                                                \n",
            "                                                                 \n",
            " dropout_1 (Dropout)         (None, 128)               0         \n",
            "                                                                 \n",
            " dense_2 (Dense)             (None, 10)                1290      \n",
            "                                                                 \n",
            "=================================================================\n",
            "Total params: 20584650 (78.52 MB)\n",
            "Trainable params: 9998730 (38.14 MB)\n",
            "Non-trainable params: 10585920 (40.38 MB)\n",
            "_________________________________________________________________\n"
          ]
        }
      ]
    },
    {
      "cell_type": "code",
      "source": [
        "history = model.fit(datagen.flow(x_train_upscaled, y_train, batch_size=32),\n",
        "                    steps_per_epoch=len(x_train_upscaled) / 32,\n",
        "                    epochs=10,\n",
        "                    validation_data=(x_test_upscaled, y_test))"
      ],
      "metadata": {
        "colab": {
          "base_uri": "https://localhost:8080/"
        },
        "id": "6XRqjiSEvLLR",
        "outputId": "7b0f61b4-2261-466e-d355-f166c34ca84c"
      },
      "execution_count": null,
      "outputs": [
        {
          "output_type": "stream",
          "name": "stdout",
          "text": [
            "Epoch 1/10\n",
            "1562/1562 [==============================] - 117s 69ms/step - loss: 1.6741 - accuracy: 0.4713 - val_loss: 0.9316 - val_accuracy: 0.6953\n",
            "Epoch 2/10\n",
            "1562/1562 [==============================] - 105s 67ms/step - loss: 1.1539 - accuracy: 0.6234 - val_loss: 0.8939 - val_accuracy: 0.7144\n",
            "Epoch 3/10\n",
            "1562/1562 [==============================] - 107s 68ms/step - loss: 0.9896 - accuracy: 0.6735 - val_loss: 0.7812 - val_accuracy: 0.7423\n",
            "Epoch 4/10\n",
            "1562/1562 [==============================] - 108s 69ms/step - loss: 0.9077 - accuracy: 0.7011 - val_loss: 0.7792 - val_accuracy: 0.7490\n",
            "Epoch 5/10\n",
            "1562/1562 [==============================] - 106s 68ms/step - loss: 0.8459 - accuracy: 0.7223 - val_loss: 0.6853 - val_accuracy: 0.7679\n",
            "Epoch 6/10\n",
            "1562/1562 [==============================] - 105s 67ms/step - loss: 0.7829 - accuracy: 0.7404 - val_loss: 0.6407 - val_accuracy: 0.7808\n",
            "Epoch 7/10\n",
            "1562/1562 [==============================] - 105s 67ms/step - loss: 0.7519 - accuracy: 0.7533 - val_loss: 0.6369 - val_accuracy: 0.7802\n",
            "Epoch 8/10\n",
            "1562/1562 [==============================] - 105s 67ms/step - loss: 0.7104 - accuracy: 0.7675 - val_loss: 0.5706 - val_accuracy: 0.8072\n",
            "Epoch 9/10\n",
            "1562/1562 [==============================] - 107s 68ms/step - loss: 0.6856 - accuracy: 0.7745 - val_loss: 0.5905 - val_accuracy: 0.8038\n",
            "Epoch 10/10\n",
            "1562/1562 [==============================] - 105s 67ms/step - loss: 0.6596 - accuracy: 0.7807 - val_loss: 0.5460 - val_accuracy: 0.8147\n"
          ]
        }
      ]
    },
    {
      "cell_type": "code",
      "source": [
        "test_loss, test_acc = model.evaluate(x_test_upscaled, y_test)\n",
        "print(f'Test accuracy: {test_acc}')"
      ],
      "metadata": {
        "id": "wtL3scFtvOli",
        "colab": {
          "base_uri": "https://localhost:8080/"
        },
        "outputId": "06c68e97-866e-4fd6-c891-86a35247470c"
      },
      "execution_count": null,
      "outputs": [
        {
          "output_type": "stream",
          "name": "stdout",
          "text": [
            "313/313 [==============================] - 6s 20ms/step - loss: 0.5460 - accuracy: 0.8147\n",
            "Test accuracy: 0.8147000074386597\n"
          ]
        }
      ]
    }
  ]
}